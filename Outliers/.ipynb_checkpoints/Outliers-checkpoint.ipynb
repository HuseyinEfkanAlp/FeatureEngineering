{
 "cells": [
  {
   "cell_type": "markdown",
   "id": "52b74bb0-5d38-42d7-84a1-d5f68aef074d",
   "metadata": {},
   "source": [
    "# Feature Engineering & Data Pre-Processing"
   ]
  },
  {
   "cell_type": "code",
   "execution_count": 2,
   "id": "0c272438-6ad6-440d-b694-5ebdaa4828b7",
   "metadata": {
    "tags": []
   },
   "outputs": [],
   "source": [
    "#!pip install missingno"
   ]
  },
  {
   "cell_type": "code",
   "execution_count": 2,
   "id": "bc4e8c2b-225a-4e87-832f-bb4edc03f4e3",
   "metadata": {},
   "outputs": [],
   "source": [
    "import numpy as np\n",
    "import pandas as pd \n",
    "import seaborn as sns\n",
    "from matplotlib import pyplot as plt\n",
    "import missingno as msno\n",
    "from datetime import date\n",
    "from sklearn.metrics import accuracy_score\n",
    "from sklearn.model_selection import train_test_split\n",
    "from sklearn.neighbors import LocalOutlierFactor\n",
    "from sklearn.preprocessing import MinMaxScaler, LabelEncoder, StandardScaler, RobustScaler"
   ]
  },
  {
   "cell_type": "code",
   "execution_count": 3,
   "id": "68b81bba-a1b1-4dfc-92ef-e5a9d75664e7",
   "metadata": {},
   "outputs": [],
   "source": [
    "pd.set_option(\"display.max_columns\", None)\n",
    "pd.set_option(\"display.float_format\", lambda x: '%.3f' % x)\n",
    "pd.set_option(\"display.width\", 500)"
   ]
  },
  {
   "cell_type": "code",
   "execution_count": 21,
   "id": "322f4f05-dfd1-4daf-8874-73c16ed3d6f7",
   "metadata": {},
   "outputs": [],
   "source": [
    "def load_application_train():\n",
    "    data = pd.read_csv(\"/Users/huseyinefkanalp/Desktop/DataScience/Miuul/FeatureEngineering/datasets/application_train.csv\")\n",
    "    return data"
   ]
  },
  {
   "cell_type": "code",
   "execution_count": 22,
   "id": "2b480cae-c039-41fb-aff5-c8e3d9403d65",
   "metadata": {},
   "outputs": [],
   "source": [
    "def load_titanic():\n",
    "    data = pd.read_csv(\"/Users/huseyinefkanalp/Desktop/DataScience/Miuul/FeatureEngineering/datasets/titanic.csv\")\n",
    "    return data"
   ]
  },
  {
   "cell_type": "code",
   "execution_count": 23,
   "id": "a4c4d3f9-c0c9-4e04-bb58-7448ac402495",
   "metadata": {},
   "outputs": [],
   "source": [
    "app_df = load_application_train()\n",
    "tit_df = load_titanic()"
   ]
  },
  {
   "cell_type": "markdown",
   "id": "186d3e2e-37ef-4141-868a-41f708bf5703",
   "metadata": {},
   "source": [
    "## Outliers (Aykırı Değerler)"
   ]
  },
  {
   "cell_type": "markdown",
   "id": "0517d07e-05b2-4565-a472-6b8964fed010",
   "metadata": {},
   "source": [
    "### Grafik Teknikle Aykırı Değerler\n",
    "Eğer grafik tekniği ile aykırı değerleri görmek istersek bunun için boxPlot(Kutu grafiği) kullanılır.\n",
    "\n",
    "* boxplot : Bir sayısal değişkenin dağılım bilgisini verir"
   ]
  },
  {
   "cell_type": "code",
   "execution_count": 24,
   "id": "8b87a088-b262-43d1-a3b6-9b7e4e707037",
   "metadata": {},
   "outputs": [
    {
     "data": {
      "image/png": "[encoded data removed]",
      "text/plain": [
       "<Figure size 640x480 with 1 Axes>"
      ]
     },
     "metadata": {},
     "output_type": "display_data"
    }
   ],
   "source": [
    "sns.boxplot(x=tit_df[\"Age\"])\n",
    "plt.show()"
   ]
  },
  {
   "cell_type": "markdown",
   "id": "00175727-e193-43a2-8e0c-b265da5bd978",
   "metadata": {},
   "source": [
    "### Aykırı Değerler Nasıl Yakalınır?"
   ]
  },
  {
   "cell_type": "code",
   "execution_count": 25,
   "id": "40d0aaeb-8ea7-4906-9157-ce36c42627f8",
   "metadata": {},
   "outputs": [],
   "source": [
    "#Çeyreklikler\n",
    "q1 = tit_df[\"Age\"].quantile(0.25)\n",
    "q3 = tit_df[\"Age\"].quantile(0.75)\n",
    "# Iqr\n",
    "iqr = q3 - q1\n",
    "#UpLimit\n",
    "up = q3 + 1.5 * iqr\n",
    "#LowLimit\n",
    "low = q1 - 1.5 * iqr"
   ]
  },
  {
   "cell_type": "code",
   "execution_count": 26,
   "id": "d0694b09-e094-49c5-82c4-1cf327287701",
   "metadata": {},
   "outputs": [
    {
     "data": {
      "text/plain": [
       "Int64Index([33, 54, 96, 116, 280, 456, 493, 630, 672, 745, 851], dtype='int64')"
      ]
     },
     "execution_count": 26,
     "metadata": {},
     "output_type": "execute_result"
    }
   ],
   "source": [
    "# Aykırı değerlerin indexlerini getirdik\n",
    "tit_df[(tit_df[\"Age\"]>up)|(tit_df[\"Age\"]<low)].index"
   ]
  },
  {
   "cell_type": "markdown",
   "id": "7803a826-6a53-475b-855c-757a14fadd00",
   "metadata": {},
   "source": [
    "### Aykırı değer var mı yok mu?"
   ]
  },
  {
   "cell_type": "code",
   "execution_count": 27,
   "id": "ed8f8a96-8ac5-4859-be5f-692881bcf831",
   "metadata": {},
   "outputs": [
    {
     "data": {
      "text/plain": [
       "True"
      ]
     },
     "execution_count": 27,
     "metadata": {},
     "output_type": "execute_result"
    }
   ],
   "source": [
    "tit_df[(tit_df[\"Age\"]>up)|(tit_df[\"Age\"]<low)].any(axis=None)"
   ]
  },
  {
   "cell_type": "markdown",
   "id": "ceeabfd3-479c-4ffc-ad2e-ebe4ea09dfb8",
   "metadata": {},
   "source": [
    "## Fonksiyonlaştırma"
   ]
  },
  {
   "cell_type": "code",
   "execution_count": 51,
   "id": "7095e66d-2107-469d-8a8c-54ad88b33ac6",
   "metadata": {},
   "outputs": [],
   "source": [
    "def outlier_thresholds(df,var,q1=0.25,q3=0.75):\n",
    "    quartile1 = df[var].quantile(q1)\n",
    "    quartile3 = df[var].quantile(q3)\n",
    "    iqr = q3 - q1\n",
    "    low_limit = q1 - 1.5 * iqr\n",
    "    up_limit = q3 + 1.5 * iqr\n",
    "    return low_limit, up_limit"
   ]
  },
  {
   "cell_type": "code",
   "execution_count": 29,
   "id": "bfc9165e-85ed-43b7-9ff9-61633ebeab62",
   "metadata": {},
   "outputs": [],
   "source": [
    "def check_outlier(df,var):\n",
    "    low_limit,up_limit = outlier_threshold(df,var)\n",
    "    return df[(df[var]>up_limit)|(df[var]<low_limit)].any(axis=None)"
   ]
  },
  {
   "cell_type": "code",
   "execution_count": 30,
   "id": "075d2ed7-843e-42b6-bc16-de01bc96fc39",
   "metadata": {},
   "outputs": [
    {
     "data": {
      "text/plain": [
       "(-0.5, 1.5)"
      ]
     },
     "execution_count": 30,
     "metadata": {},
     "output_type": "execute_result"
    }
   ],
   "source": [
    "outlier_threshold(tit_df, \"Age\")"
   ]
  },
  {
   "cell_type": "code",
   "execution_count": 31,
   "id": "6e246cf3-50c7-48aa-8694-e0c41eddd89e",
   "metadata": {},
   "outputs": [
    {
     "data": {
      "text/plain": [
       "True"
      ]
     },
     "execution_count": 31,
     "metadata": {},
     "output_type": "execute_result"
    }
   ],
   "source": [
    "check_outlier(tit_df, \"Age\")"
   ]
  },
  {
   "cell_type": "code",
   "execution_count": 32,
   "id": "0cd1c359-113b-4b28-b4e8-c6edd5e06341",
   "metadata": {},
   "outputs": [
    {
     "data": {
      "text/plain": [
       "True"
      ]
     },
     "execution_count": 32,
     "metadata": {},
     "output_type": "execute_result"
    }
   ],
   "source": [
    "check_outlier(tit_df, \"Fare\")"
   ]
  },
  {
   "cell_type": "code",
   "execution_count": 33,
   "id": "5c14ab67-5ca1-4236-af89-1aa98e2ddfb0",
   "metadata": {},
   "outputs": [],
   "source": [
    "# grab_col_names"
   ]
  },
  {
   "cell_type": "code",
   "execution_count": 34,
   "id": "477cf107-5329-4849-ac62-be1f448b5e86",
   "metadata": {
    "jupyter": {
     "source_hidden": true
    },
    "tags": []
   },
   "outputs": [],
   "source": [
    "def grab_col_names(df, cat_th=10, car_th=20):\n",
    "    \"\"\"\n",
    "    Veri setindeki kategorik, numerik ve kategorik fakat kardinal değişkenlerin isimlerini verir.\n",
    "    Not: Kategorik değişkenlerin içerisine numerik görünümlü kategorik değişkenler de dahildir.\n",
    "    \n",
    "    Parameters\n",
    "    -------\n",
    "    \tdf: dataframe\n",
    "        \t\tDeğişken isimleri alınmak istenilen dataframe\n",
    "        cat_th: int, optional\n",
    "        \t\tnumerik fakat kategorik olan değişkenler için sınıf eşik değeri\n",
    "        car_th: int, optional\n",
    "        \t\tkategorik fakat kardinal değişkenler için sınıf eşik değeri\n",
    "    Returns\n",
    "    ------\n",
    "    \tcat_cols: list\n",
    "        \t\tKategorik değişken listesi\n",
    "        num_cols: list\n",
    "        \t\tNumerik değişken listesi\n",
    "        \n",
    "    \"\"\"\n",
    "    \n",
    "    # cat_cols, cat_but_car\n",
    "    cat_cols = [col for col in df.columns if df[col].dtypes == \"O\"]\n",
    "    num_but_cat = [col for col in df.columns if df[col].nunique() < cat_th and df[col].dtypes != \"O\"]\n",
    "    cat_but_car = [col for col in df.columns if df[col].nunique() > car_th and df[col].dtypes == \"O\"]\n",
    "    cat_cols = cat_cols + num_but_cat\n",
    "    cat_cols = [col for col in cat_cols if col not in cat_but_car]\n",
    "    \n",
    "    # num_cols\n",
    "    num_cols = [col for col in df.columns if df[col].dtypes != \"O\"]\n",
    "    num_cols = [col for col in num_cols if col not in num_but_cat]\n",
    "    \n",
    "    print(f\"Observations: {df.shape[0]}\")\n",
    "    print(f\"Variables: {df.shape[1]}\")\n",
    "    print(f\"cat_cols: {len(cat_cols)}\")\n",
    "    print(f\"num_cols: {len(num_cols)}\")\n",
    "    print(f\"cat_but_car: {len(cat_but_car)}\")\n",
    "    print(f\"num_but_cat: {len(num_but_cat)}\")\n",
    "    return cat_cols, num_cols, cat_but_car"
   ]
  },
  {
   "cell_type": "code",
   "execution_count": 35,
   "id": "d1c39663-e8e6-4d5f-beb8-dfef4094419f",
   "metadata": {},
   "outputs": [
    {
     "name": "stdout",
     "output_type": "stream",
     "text": [
      "Observations: 891\n",
      "Variables: 12\n",
      "cat_cols: 6\n",
      "num_cols: 3\n",
      "cat_but_car: 3\n",
      "num_but_cat: 4\n"
     ]
    }
   ],
   "source": [
    "cat_cols, num_cols, cat_but_car = grab_col_names(tit_df)"
   ]
  },
  {
   "cell_type": "code",
   "execution_count": 36,
   "id": "b71fab48-101d-4406-b8b9-2c082d91fe62",
   "metadata": {},
   "outputs": [
    {
     "data": {
      "text/plain": [
       "['Sex', 'Embarked', 'Survived', 'Pclass', 'SibSp', 'Parch']"
      ]
     },
     "execution_count": 36,
     "metadata": {},
     "output_type": "execute_result"
    }
   ],
   "source": [
    "cat_cols"
   ]
  },
  {
   "cell_type": "code",
   "execution_count": 37,
   "id": "ffc88bf3-8e72-4899-95b7-a81b913a1442",
   "metadata": {},
   "outputs": [
    {
     "data": {
      "text/plain": [
       "['PassengerId', 'Age', 'Fare']"
      ]
     },
     "execution_count": 37,
     "metadata": {},
     "output_type": "execute_result"
    }
   ],
   "source": [
    "num_cols"
   ]
  },
  {
   "cell_type": "code",
   "execution_count": 38,
   "id": "aa81ee60-85d7-4e3a-b636-b6bca3d44d33",
   "metadata": {},
   "outputs": [
    {
     "data": {
      "text/plain": [
       "['Age', 'Fare']"
      ]
     },
     "execution_count": 38,
     "metadata": {},
     "output_type": "execute_result"
    }
   ],
   "source": [
    "num_cols = [col for col in num_cols if col not in \"PassengerId\"]\n",
    "num_cols"
   ]
  },
  {
   "cell_type": "code",
   "execution_count": 39,
   "id": "722df207-1434-48a0-9a0e-cd3669aefdcc",
   "metadata": {},
   "outputs": [
    {
     "data": {
      "text/plain": [
       "['Name', 'Ticket', 'Cabin']"
      ]
     },
     "execution_count": 39,
     "metadata": {},
     "output_type": "execute_result"
    }
   ],
   "source": [
    "cat_but_car"
   ]
  },
  {
   "cell_type": "code",
   "execution_count": 40,
   "id": "e2b01e66-e8a2-4366-a736-1524d9a15d87",
   "metadata": {},
   "outputs": [
    {
     "name": "stdout",
     "output_type": "stream",
     "text": [
      "Age True\n",
      "Fare True\n"
     ]
    }
   ],
   "source": [
    "for col in num_cols:\n",
    "    print(col, check_outlier(tit_df, col))"
   ]
  },
  {
   "cell_type": "code",
   "execution_count": 41,
   "id": "5f9bbebc-11a6-465b-bd41-5a662b0a1357",
   "metadata": {},
   "outputs": [
    {
     "name": "stdout",
     "output_type": "stream",
     "text": [
      "Observations: 307511\n",
      "Variables: 122\n",
      "cat_cols: 54\n",
      "num_cols: 67\n",
      "cat_but_car: 1\n",
      "num_but_cat: 39\n"
     ]
    }
   ],
   "source": [
    "cat_cols, num_cols, cat_but_car = grab_col_names(app_df)"
   ]
  },
  {
   "cell_type": "code",
   "execution_count": 42,
   "id": "5c60aef4-fceb-441e-957f-a1d24048382f",
   "metadata": {
    "collapsed": true,
    "jupyter": {
     "outputs_hidden": true
    },
    "tags": []
   },
   "outputs": [
    {
     "name": "stdout",
     "output_type": "stream",
     "text": [
      "SK_ID_CURR True\n",
      "CNT_CHILDREN True\n",
      "AMT_INCOME_TOTAL True\n",
      "AMT_CREDIT True\n",
      "AMT_ANNUITY True\n",
      "AMT_GOODS_PRICE True\n",
      "REGION_POPULATION_RELATIVE False\n",
      "DAYS_BIRTH True\n",
      "DAYS_EMPLOYED True\n",
      "DAYS_REGISTRATION True\n",
      "DAYS_ID_PUBLISH True\n",
      "OWN_CAR_AGE True\n",
      "CNT_FAM_MEMBERS True\n",
      "HOUR_APPR_PROCESS_START True\n",
      "EXT_SOURCE_1 False\n",
      "EXT_SOURCE_2 False\n",
      "EXT_SOURCE_3 False\n",
      "APARTMENTS_AVG False\n",
      "BASEMENTAREA_AVG False\n",
      "YEARS_BEGINEXPLUATATION_AVG False\n",
      "YEARS_BUILD_AVG False\n",
      "COMMONAREA_AVG False\n",
      "ELEVATORS_AVG False\n",
      "ENTRANCES_AVG False\n",
      "FLOORSMAX_AVG False\n",
      "FLOORSMIN_AVG False\n",
      "LANDAREA_AVG False\n",
      "LIVINGAPARTMENTS_AVG False\n",
      "LIVINGAREA_AVG False\n",
      "NONLIVINGAPARTMENTS_AVG False\n",
      "NONLIVINGAREA_AVG False\n",
      "APARTMENTS_MODE False\n",
      "BASEMENTAREA_MODE False\n",
      "YEARS_BEGINEXPLUATATION_MODE False\n",
      "YEARS_BUILD_MODE False\n",
      "COMMONAREA_MODE False\n",
      "ELEVATORS_MODE False\n",
      "ENTRANCES_MODE False\n",
      "FLOORSMAX_MODE False\n",
      "FLOORSMIN_MODE False\n",
      "LANDAREA_MODE False\n",
      "LIVINGAPARTMENTS_MODE False\n",
      "LIVINGAREA_MODE False\n",
      "NONLIVINGAPARTMENTS_MODE False\n",
      "NONLIVINGAREA_MODE False\n",
      "APARTMENTS_MEDI False\n",
      "BASEMENTAREA_MEDI False\n",
      "YEARS_BEGINEXPLUATATION_MEDI False\n",
      "YEARS_BUILD_MEDI False\n",
      "COMMONAREA_MEDI False\n",
      "ELEVATORS_MEDI False\n",
      "ENTRANCES_MEDI False\n",
      "FLOORSMAX_MEDI False\n",
      "FLOORSMIN_MEDI False\n",
      "LANDAREA_MEDI False\n",
      "LIVINGAPARTMENTS_MEDI False\n",
      "LIVINGAREA_MEDI False\n",
      "NONLIVINGAPARTMENTS_MEDI False\n",
      "NONLIVINGAREA_MEDI False\n",
      "TOTALAREA_MODE False\n",
      "OBS_30_CNT_SOCIAL_CIRCLE True\n",
      "DEF_30_CNT_SOCIAL_CIRCLE True\n",
      "OBS_60_CNT_SOCIAL_CIRCLE True\n",
      "DAYS_LAST_PHONE_CHANGE True\n",
      "AMT_REQ_CREDIT_BUREAU_MON True\n",
      "AMT_REQ_CREDIT_BUREAU_QRT True\n",
      "AMT_REQ_CREDIT_BUREAU_YEAR True\n"
     ]
    }
   ],
   "source": [
    "for col in num_cols:\n",
    "    print(col, check_outlier(app_df, col))"
   ]
  },
  {
   "cell_type": "code",
   "execution_count": 43,
   "id": "2117f15b-5afd-44c6-93f9-aac48b108edd",
   "metadata": {},
   "outputs": [],
   "source": [
    "## Aykırı değerlerin kendilerine erişmek"
   ]
  },
  {
   "cell_type": "code",
   "execution_count": 44,
   "id": "c4cfbbc0-e48b-4ae1-aabd-9f81fa44b267",
   "metadata": {},
   "outputs": [],
   "source": [
    "def grab_outliers(df, col, index=False):\n",
    "    low, up = outlier_threshold(df, col)\n",
    "    if df[((df[col]<low)|(df[col]>up))].shape[0]> 10:\n",
    "        print(df[((df[col]<low)|(df[col]>up))].head())\n",
    "    else:\n",
    "        print(df[((df[col]<low)|(df[col]>up))])\n",
    "    if index:\n",
    "        outlier_index = df[(df[col]<low)|(df[col]>up)].index\n",
    "        return outlier_index"
   ]
  },
  {
   "cell_type": "code",
   "execution_count": 45,
   "id": "acc307fa-4604-4170-bea8-26676925af7e",
   "metadata": {
    "tags": []
   },
   "outputs": [
    {
     "name": "stdout",
     "output_type": "stream",
     "text": [
      "   PassengerId  Survived  Pclass                                               Name     Sex    Age  SibSp  Parch            Ticket   Fare Cabin Embarked\n",
      "0            1         0       3                            Braund, Mr. Owen Harris    male 22.000      1      0         A/5 21171  7.250   NaN        S\n",
      "1            2         1       1  Cumings, Mrs. John Bradley (Florence Briggs Th...  female 38.000      1      0          PC 17599 71.283   C85        C\n",
      "2            3         1       3                             Heikkinen, Miss. Laina  female 26.000      0      0  STON/O2. 3101282  7.925   NaN        S\n",
      "3            4         1       1       Futrelle, Mrs. Jacques Heath (Lily May Peel)  female 35.000      1      0            113803 53.100  C123        S\n",
      "4            5         0       3                           Allen, Mr. William Henry    male 35.000      0      0            373450  8.050   NaN        S\n"
     ]
    }
   ],
   "source": [
    "age_index = grab_outliers(tit_df, \"Age\", True)"
   ]
  },
  {
   "cell_type": "markdown",
   "id": "4419a3a0-0675-427d-9564-aefaea7ebd90",
   "metadata": {},
   "source": [
    "### Aykırı değer problemini çözme"
   ]
  },
  {
   "cell_type": "markdown",
   "id": "c40d1900-2151-40c8-bb5a-c11222f9088c",
   "metadata": {},
   "source": [
    "#### Silme"
   ]
  },
  {
   "cell_type": "code",
   "execution_count": 52,
   "id": "44e15e39-be11-4fd8-8dae-1d933caa4eb0",
   "metadata": {},
   "outputs": [
    {
     "data": {
      "text/plain": [
       "(891, 12)"
      ]
     },
     "execution_count": 52,
     "metadata": {},
     "output_type": "execute_result"
    }
   ],
   "source": [
    "low, up = outlier_thresholds(tit_df, \"Fare\")\n",
    "tit_df.shape\n"
   ]
  },
  {
   "cell_type": "code",
   "execution_count": 56,
   "id": "b4d5d729-4c1c-47f0-a9ed-ce077eb9b0e2",
   "metadata": {},
   "outputs": [
    {
     "data": {
      "text/plain": [
       "(15, 12)"
      ]
     },
     "execution_count": 56,
     "metadata": {},
     "output_type": "execute_result"
    }
   ],
   "source": [
    "#Aykırı olmayanları getirme\n",
    "tit_df[~((tit_df[\"Fare\"]<low)|(tit_df[\"Fare\"]>up))].shape"
   ]
  },
  {
   "cell_type": "code",
   "execution_count": null,
   "id": "1c49a7e9-03f0-415f-afe0-0728544f98e0",
   "metadata": {},
   "outputs": [],
   "source": [
    "def remove_oulier(df, var):\n",
    "    low_limit, up_limit = outlier_thresholds"
   ]
  }
 ],
 "metadata": {
  "kernelspec": {
   "display_name": "Python 3 (ipykernel)",
   "language": "python",
   "name": "python3"
  },
  "language_info": {
   "codemirror_mode": {
    "name": "ipython",
    "version": 3
   },
   "file_extension": ".py",
   "mimetype": "text/x-python",
   "name": "python",
   "nbconvert_exporter": "python",
   "pygments_lexer": "ipython3",
   "version": "3.9.13"
  }
 },
 "nbformat": 4,
 "nbformat_minor": 5
}
