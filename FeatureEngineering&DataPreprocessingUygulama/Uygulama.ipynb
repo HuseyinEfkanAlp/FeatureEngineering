{
 "cells": [
  {
   "cell_type": "code",
   "execution_count": 1,
   "id": "8c52dd71-9935-410a-94c6-f43245a3f904",
   "metadata": {},
   "outputs": [],
   "source": [
    "import numpy as np\n",
    "import pandas as pd \n",
    "import seaborn as sns\n",
    "from matplotlib import pyplot as plt\n",
    "import missingno as msno\n",
    "from datetime import date\n",
    "from sklearn.metrics import accuracy_score\n",
    "from sklearn.model_selection import train_test_split\n",
    "from sklearn.neighbors import LocalOutlierFactor\n",
    "from sklearn.preprocessing import MinMaxScaler, LabelEncoder, StandardScaler, RobustScaler\n",
    "pd.set_option('display.max_columns', None)"
   ]
  },
  {
   "cell_type": "code",
   "execution_count": 2,
   "id": "1d42874f-cf22-49c1-9f9e-fe1560313025",
   "metadata": {},
   "outputs": [],
   "source": [
    "def load():\n",
    "    df = pd.read_csv(\"/Users/huseyinefkanalp/Desktop/DataScience/Miuul/FeatureEngineering/datasets/titanic.csv\")\n",
    "    return df"
   ]
  },
  {
   "cell_type": "code",
   "execution_count": 3,
   "id": "57048a7d-4d6b-4f4f-9122-34767ac54de9",
   "metadata": {},
   "outputs": [
    {
     "data": {
      "text/plain": [
       "(891, 12)"
      ]
     },
     "execution_count": 3,
     "metadata": {},
     "output_type": "execute_result"
    }
   ],
   "source": [
    "df = load()\n",
    "df.shape"
   ]
  },
  {
   "cell_type": "code",
   "execution_count": 19,
   "id": "f6b4a8cf-388f-4e89-88b3-7b2169427ca9",
   "metadata": {
    "jupyter": {
     "source_hidden": true
    },
    "tags": []
   },
   "outputs": [],
   "source": [
    "#Hangisi kategorik hangisi numerik bulan fonksiyon\n",
    "def grab_col_names(df, cat_th=10, car_th=20):\n",
    "    \"\"\"\n",
    "    Veri setindeki kategorik, numerik ve kategorik fakat kardinal değişkenlerin isimlerini verir.\n",
    "    Not: Kategorik değişkenlerin içerisine numerik görünümlü kategorik değişkenler de dahildir.\n",
    "    \n",
    "    Parameters\n",
    "    -------\n",
    "    \tdf: dataframe\n",
    "        \t\tDeğişken isimleri alınmak istenilen dataframe\n",
    "        cat_th: int, optional\n",
    "        \t\tnumerik fakat kategorik olan değişkenler için sınıf eşik değeri\n",
    "        car_th: int, optional\n",
    "        \t\tkategorik fakat kardinal değişkenler için sınıf eşik değeri\n",
    "    Returns\n",
    "    ------\n",
    "    \tcat_cols: list\n",
    "        \t\tKategorik değişken listesi\n",
    "        num_cols: list\n",
    "        \t\tNumerik değişken listesi\n",
    "        \n",
    "    \"\"\"\n",
    "    \n",
    "    # cat_cols, cat_but_car\n",
    "    cat_cols = [col for col in df.columns if df[col].dtypes == \"O\"]\n",
    "    num_but_cat = [col for col in df.columns if df[col].nunique() < cat_th and df[col].dtypes != \"O\"]\n",
    "    cat_but_car = [col for col in df.columns if df[col].nunique() > car_th and df[col].dtypes == \"O\"]\n",
    "    cat_cols = cat_cols + num_but_cat\n",
    "    cat_cols = [col for col in cat_cols if col not in cat_but_car]\n",
    "    \n",
    "    # num_cols\n",
    "    num_cols = [col for col in df.columns if df[col].dtypes != \"O\"]\n",
    "    num_cols = [col for col in num_cols if col not in num_but_cat]\n",
    "    \n",
    "    print(f\"Observations: {df.shape[0]}\")\n",
    "    print(f\"Variables: {df.shape[1]}\")\n",
    "    print(f\"cat_cols: {len(cat_cols)}\")\n",
    "    print(f\"num_cols: {len(num_cols)}\")\n",
    "    print(f\"cat_but_car: {len(cat_but_car)}\")\n",
    "    print(f\"num_but_cat: {len(num_but_cat)}\")\n",
    "    return cat_cols, num_cols, cat_but_car"
   ]
  },
  {
   "cell_type": "code",
   "execution_count": 4,
   "id": "92d9e6ba-53d7-4c28-a1ac-555c440f7b3f",
   "metadata": {},
   "outputs": [],
   "source": [
    "# sutun isimlerini buyultelim\n",
    "df.columns = [col.upper() for col in df.columns]"
   ]
  },
  {
   "cell_type": "markdown",
   "id": "50122c8e-4553-419a-89c5-7adf5e3570c3",
   "metadata": {},
   "source": [
    "## Feature Engineering (Degisken muhendisligi)"
   ]
  },
  {
   "cell_type": "code",
   "execution_count": 6,
   "id": "2bf19e32-67e2-4872-abef-d6e4871958a5",
   "metadata": {},
   "outputs": [],
   "source": [
    "# Cabin Bool. Cabin bilgisi verildiyse 1 verilmediyse 0\n",
    "df['NEW_CABIN_BOOLE'] = df['CABIN'].notnull().astype('int')"
   ]
  },
  {
   "cell_type": "code",
   "execution_count": null,
   "id": "621943af-763a-46a5-b6a8-549784ad63da",
   "metadata": {},
   "outputs": [],
   "source": [
    "# Name count. name degiskenlerinin uzunlugu\n",
    "df['NEW_NAME_COUNT'] = df['NAME'].str.len()"
   ]
  },
  {
   "cell_type": "code",
   "execution_count": 7,
   "id": "ee97f048-bb5f-4f39-83a9-fb82ad05c7ff",
   "metadata": {},
   "outputs": [],
   "source": [
    "# Name word count. Name degiskenin de kac adet kelime barindiriyor\n",
    "df['NEW_NAME_WORD_COUNT'] = df['NAME'].apply(lambda x : len(str(x).split(' ')))"
   ]
  },
  {
   "cell_type": "code",
   "execution_count": 10,
   "id": "f5d624de-2093-4614-8ef2-00739ee47639",
   "metadata": {},
   "outputs": [],
   "source": [
    "# Name dr. Eger name degiskenleri dr ile basliyorsa bunlari yeni degiskende belirt\n",
    "df['NEW_NAME_DR'] = df['NAME'].apply(lambda x : len([x for x in x.split() if x.startswith('Dr')]))"
   ]
  },
  {
   "cell_type": "code",
   "execution_count": 12,
   "id": "ac143246-c98b-4600-b164-497a77ea8c85",
   "metadata": {},
   "outputs": [],
   "source": [
    "# New Title. mr mi mrs mi bunlari aldik\n",
    "df['NEW_TITLE'] = df.NAME.str.extract(' ([A-Za-z]+)\\.', expand=False)"
   ]
  },
  {
   "cell_type": "code",
   "execution_count": 13,
   "id": "88fb7571-d1cd-4487-b0a2-77f8f6059682",
   "metadata": {},
   "outputs": [],
   "source": [
    "# Family size. aile buyuklugu\n",
    "df['NEW_FAMILY_SIZE'] = df['SIBSP'] + df['PARCH'] + 1"
   ]
  },
  {
   "cell_type": "code",
   "execution_count": 14,
   "id": "0935d31f-5bd4-48d1-96a2-8215b6b94be1",
   "metadata": {},
   "outputs": [],
   "source": [
    "# Age Pclass\n",
    "df['NEW_AGE_PCLASS'] = df['AGE']* df['PCLASS']"
   ]
  },
  {
   "cell_type": "code",
   "execution_count": 15,
   "id": "86676d54-2cb7-4c87-bdd7-d84e4c9b69a7",
   "metadata": {},
   "outputs": [],
   "source": [
    "#is alone\n",
    "df.loc[((df['SIBSP']+df['PARCH']) > 0), 'NEW_IS_ALONE'] = 'NO'\n",
    "df.loc[((df['SIBSP']+df['PARCH']) == 0), 'NEW_IS_ALONE'] = 'Yes'"
   ]
  },
  {
   "cell_type": "code",
   "execution_count": 16,
   "id": "ffb01f22-4a8a-4682-8649-24a4475e1bf9",
   "metadata": {},
   "outputs": [],
   "source": [
    "# age level\n",
    "df.loc[(df['AGE']<18),'NEW_AGE_CAT'] = 'young'\n",
    "df.loc[(df['AGE']>=18)&(df['AGE']<56),'NEW_AGE_CAT'] = 'mature'\n",
    "df.loc[(df['AGE']>=56),'NEW_AGE_CAT'] = 'senior'"
   ]
  },
  {
   "cell_type": "code",
   "execution_count": 17,
   "id": "c995ef95-9e27-4d92-9603-05512db56a67",
   "metadata": {},
   "outputs": [],
   "source": [
    "# sex x age\n",
    "df.loc[(df['SEX'] == 'male')& (df['AGE']<=21), 'NEW_SEX_CAT'] = 'youngmale'\n",
    "df.loc[(df['SEX'] == 'male')& (df['AGE']>21) & (df['AGE']<=50), 'NEW_SEX_CAT'] = 'maturemale'\n",
    "df.loc[(df['SEX'] == 'male')& (df['AGE'] > 50), 'NEW_SEX_CAT'] = 'seniormale'\n",
    "df.loc[(df['SEX'] == 'female')& (df['AGE']<=21), 'NEW_SEX_CAT'] = 'youngfemale'\n",
    "df.loc[(df['SEX'] == 'female')& (df['AGE']>21) & (df['AGE']<=50), 'NEW_SEX_CAT'] = 'maturefemale'\n",
    "df.loc[(df['SEX'] == 'female')& (df['AGE'] > 50), 'NEW_SEX_CAT'] = 'seniorfemale'"
   ]
  },
  {
   "cell_type": "code",
   "execution_count": 18,
   "id": "d4e58ac4-44d1-4d10-98a9-0e0b66f491ab",
   "metadata": {},
   "outputs": [
    {
     "data": {
      "text/html": [
       "<div>\n",
       "<style scoped>\n",
       "    .dataframe tbody tr th:only-of-type {\n",
       "        vertical-align: middle;\n",
       "    }\n",
       "\n",
       "    .dataframe tbody tr th {\n",
       "        vertical-align: top;\n",
       "    }\n",
       "\n",
       "    .dataframe thead th {\n",
       "        text-align: right;\n",
       "    }\n",
       "</style>\n",
       "<table border=\"1\" class=\"dataframe\">\n",
       "  <thead>\n",
       "    <tr style=\"text-align: right;\">\n",
       "      <th></th>\n",
       "      <th>PASSENGERID</th>\n",
       "      <th>SURVIVED</th>\n",
       "      <th>PCLASS</th>\n",
       "      <th>NAME</th>\n",
       "      <th>SEX</th>\n",
       "      <th>AGE</th>\n",
       "      <th>SIBSP</th>\n",
       "      <th>PARCH</th>\n",
       "      <th>TICKET</th>\n",
       "      <th>FARE</th>\n",
       "      <th>CABIN</th>\n",
       "      <th>EMBARKED</th>\n",
       "      <th>NEW_CABIN_BOOLE</th>\n",
       "      <th>NEW_NAME_WORD_COUNT</th>\n",
       "      <th>NEW_NAME_DR</th>\n",
       "      <th>NEW_TITLE</th>\n",
       "      <th>NEW_FAMILY_SIZE</th>\n",
       "      <th>NEW_AGE_PCLASS</th>\n",
       "      <th>NEW_IS_ALONE</th>\n",
       "      <th>NEW_AGE_CAT</th>\n",
       "      <th>NEW_SEX_CAT</th>\n",
       "    </tr>\n",
       "  </thead>\n",
       "  <tbody>\n",
       "    <tr>\n",
       "      <th>0</th>\n",
       "      <td>1</td>\n",
       "      <td>0</td>\n",
       "      <td>3</td>\n",
       "      <td>Braund, Mr. Owen Harris</td>\n",
       "      <td>male</td>\n",
       "      <td>22.0</td>\n",
       "      <td>1</td>\n",
       "      <td>0</td>\n",
       "      <td>A/5 21171</td>\n",
       "      <td>7.2500</td>\n",
       "      <td>NaN</td>\n",
       "      <td>S</td>\n",
       "      <td>0</td>\n",
       "      <td>4</td>\n",
       "      <td>0</td>\n",
       "      <td>Mr</td>\n",
       "      <td>2</td>\n",
       "      <td>66.0</td>\n",
       "      <td>NO</td>\n",
       "      <td>mature</td>\n",
       "      <td>maturemale</td>\n",
       "    </tr>\n",
       "    <tr>\n",
       "      <th>1</th>\n",
       "      <td>2</td>\n",
       "      <td>1</td>\n",
       "      <td>1</td>\n",
       "      <td>Cumings, Mrs. John Bradley (Florence Briggs Th...</td>\n",
       "      <td>female</td>\n",
       "      <td>38.0</td>\n",
       "      <td>1</td>\n",
       "      <td>0</td>\n",
       "      <td>PC 17599</td>\n",
       "      <td>71.2833</td>\n",
       "      <td>C85</td>\n",
       "      <td>C</td>\n",
       "      <td>1</td>\n",
       "      <td>7</td>\n",
       "      <td>0</td>\n",
       "      <td>Mrs</td>\n",
       "      <td>2</td>\n",
       "      <td>38.0</td>\n",
       "      <td>NO</td>\n",
       "      <td>mature</td>\n",
       "      <td>maturefemale</td>\n",
       "    </tr>\n",
       "    <tr>\n",
       "      <th>2</th>\n",
       "      <td>3</td>\n",
       "      <td>1</td>\n",
       "      <td>3</td>\n",
       "      <td>Heikkinen, Miss. Laina</td>\n",
       "      <td>female</td>\n",
       "      <td>26.0</td>\n",
       "      <td>0</td>\n",
       "      <td>0</td>\n",
       "      <td>STON/O2. 3101282</td>\n",
       "      <td>7.9250</td>\n",
       "      <td>NaN</td>\n",
       "      <td>S</td>\n",
       "      <td>0</td>\n",
       "      <td>3</td>\n",
       "      <td>0</td>\n",
       "      <td>Miss</td>\n",
       "      <td>1</td>\n",
       "      <td>78.0</td>\n",
       "      <td>Yes</td>\n",
       "      <td>mature</td>\n",
       "      <td>maturefemale</td>\n",
       "    </tr>\n",
       "    <tr>\n",
       "      <th>3</th>\n",
       "      <td>4</td>\n",
       "      <td>1</td>\n",
       "      <td>1</td>\n",
       "      <td>Futrelle, Mrs. Jacques Heath (Lily May Peel)</td>\n",
       "      <td>female</td>\n",
       "      <td>35.0</td>\n",
       "      <td>1</td>\n",
       "      <td>0</td>\n",
       "      <td>113803</td>\n",
       "      <td>53.1000</td>\n",
       "      <td>C123</td>\n",
       "      <td>S</td>\n",
       "      <td>1</td>\n",
       "      <td>7</td>\n",
       "      <td>0</td>\n",
       "      <td>Mrs</td>\n",
       "      <td>2</td>\n",
       "      <td>35.0</td>\n",
       "      <td>NO</td>\n",
       "      <td>mature</td>\n",
       "      <td>maturefemale</td>\n",
       "    </tr>\n",
       "    <tr>\n",
       "      <th>4</th>\n",
       "      <td>5</td>\n",
       "      <td>0</td>\n",
       "      <td>3</td>\n",
       "      <td>Allen, Mr. William Henry</td>\n",
       "      <td>male</td>\n",
       "      <td>35.0</td>\n",
       "      <td>0</td>\n",
       "      <td>0</td>\n",
       "      <td>373450</td>\n",
       "      <td>8.0500</td>\n",
       "      <td>NaN</td>\n",
       "      <td>S</td>\n",
       "      <td>0</td>\n",
       "      <td>4</td>\n",
       "      <td>0</td>\n",
       "      <td>Mr</td>\n",
       "      <td>1</td>\n",
       "      <td>105.0</td>\n",
       "      <td>Yes</td>\n",
       "      <td>mature</td>\n",
       "      <td>maturemale</td>\n",
       "    </tr>\n",
       "  </tbody>\n",
       "</table>\n",
       "</div>"
      ],
      "text/plain": [
       "   PASSENGERID  SURVIVED  PCLASS  \\\n",
       "0            1         0       3   \n",
       "1            2         1       1   \n",
       "2            3         1       3   \n",
       "3            4         1       1   \n",
       "4            5         0       3   \n",
       "\n",
       "                                                NAME     SEX   AGE  SIBSP  \\\n",
       "0                            Braund, Mr. Owen Harris    male  22.0      1   \n",
       "1  Cumings, Mrs. John Bradley (Florence Briggs Th...  female  38.0      1   \n",
       "2                             Heikkinen, Miss. Laina  female  26.0      0   \n",
       "3       Futrelle, Mrs. Jacques Heath (Lily May Peel)  female  35.0      1   \n",
       "4                           Allen, Mr. William Henry    male  35.0      0   \n",
       "\n",
       "   PARCH            TICKET     FARE CABIN EMBARKED  NEW_CABIN_BOOLE  \\\n",
       "0      0         A/5 21171   7.2500   NaN        S                0   \n",
       "1      0          PC 17599  71.2833   C85        C                1   \n",
       "2      0  STON/O2. 3101282   7.9250   NaN        S                0   \n",
       "3      0            113803  53.1000  C123        S                1   \n",
       "4      0            373450   8.0500   NaN        S                0   \n",
       "\n",
       "   NEW_NAME_WORD_COUNT  NEW_NAME_DR NEW_TITLE  NEW_FAMILY_SIZE  \\\n",
       "0                    4            0        Mr                2   \n",
       "1                    7            0       Mrs                2   \n",
       "2                    3            0      Miss                1   \n",
       "3                    7            0       Mrs                2   \n",
       "4                    4            0        Mr                1   \n",
       "\n",
       "   NEW_AGE_PCLASS NEW_IS_ALONE NEW_AGE_CAT   NEW_SEX_CAT  \n",
       "0            66.0           NO      mature    maturemale  \n",
       "1            38.0           NO      mature  maturefemale  \n",
       "2            78.0          Yes      mature  maturefemale  \n",
       "3            35.0           NO      mature  maturefemale  \n",
       "4           105.0          Yes      mature    maturemale  "
      ]
     },
     "execution_count": 18,
     "metadata": {},
     "output_type": "execute_result"
    }
   ],
   "source": [
    "df.head()"
   ]
  },
  {
   "cell_type": "code",
   "execution_count": 20,
   "id": "ded1d1cd-69b9-46ce-877f-2ef9e99c7f86",
   "metadata": {},
   "outputs": [
    {
     "name": "stdout",
     "output_type": "stream",
     "text": [
      "Observations: 891\n",
      "Variables: 21\n",
      "cat_cols: 14\n",
      "num_cols: 4\n",
      "cat_but_car: 3\n",
      "num_but_cat: 8\n"
     ]
    }
   ],
   "source": [
    "cat_cols, num_cols, cat_but_car = grab_col_names(df)"
   ]
  },
  {
   "cell_type": "code",
   "execution_count": 21,
   "id": "d5129b35-f796-4aec-8245-1c489a48465a",
   "metadata": {},
   "outputs": [
    {
     "data": {
      "text/plain": [
       "['PASSENGERID', 'AGE', 'FARE', 'NEW_AGE_PCLASS']"
      ]
     },
     "execution_count": 21,
     "metadata": {},
     "output_type": "execute_result"
    }
   ],
   "source": [
    "num_cols"
   ]
  },
  {
   "cell_type": "code",
   "execution_count": 22,
   "id": "c370218d-97e4-42a4-9066-db5fd78ef996",
   "metadata": {},
   "outputs": [],
   "source": [
    "# passenger id numerik degil o yuzden bunu num_cols dan atmamiz gerekli\n",
    "num_cols = [col for col in num_cols if 'PASSENGERID' not in col]"
   ]
  },
  {
   "cell_type": "code",
   "execution_count": null,
   "id": "2497b996-de0d-47cc-9824-0e84a6decac0",
   "metadata": {},
   "outputs": [],
   "source": []
  }
 ],
 "metadata": {
  "kernelspec": {
   "display_name": "Python 3 (ipykernel)",
   "language": "python",
   "name": "python3"
  },
  "language_info": {
   "codemirror_mode": {
    "name": "ipython",
    "version": 3
   },
   "file_extension": ".py",
   "mimetype": "text/x-python",
   "name": "python",
   "nbconvert_exporter": "python",
   "pygments_lexer": "ipython3",
   "version": "3.9.13"
  }
 },
 "nbformat": 4,
 "nbformat_minor": 5
}
